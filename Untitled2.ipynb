{
  "nbformat": 4,
  "nbformat_minor": 0,
  "metadata": {
    "colab": {
      "provenance": [],
      "authorship_tag": "ABX9TyOzP3zugwz2tPWlZc/6B9OV",
      "include_colab_link": true
    },
    "kernelspec": {
      "name": "python3",
      "display_name": "Python 3"
    },
    "language_info": {
      "name": "python"
    }
  },
  "cells": [
    {
      "cell_type": "markdown",
      "metadata": {
        "id": "view-in-github",
        "colab_type": "text"
      },
      "source": [
        "<a href=\"https://colab.research.google.com/github/ejcondorf8/API/blob/main/Untitled2.ipynb\" target=\"_parent\"><img src=\"https://colab.research.google.com/assets/colab-badge.svg\" alt=\"Open In Colab\"/></a>"
      ]
    },
    {
      "cell_type": "code",
      "execution_count": 1,
      "metadata": {
        "id": "D4LrfmyGt0Oi"
      },
      "outputs": [],
      "source": [
        "from sklearn.feature_extraction.text import TfidfVectorizer\n",
        "from sklearn.metrics.pairwise import cosine_similarity"
      ]
    },
    {
      "cell_type": "code",
      "source": [
        "def obtener_recomendaciones_con_parametros(dataset, tipo_deseado, provincia_deseada, temperatura_deseada, calificacion_deseada, num_recomendaciones):\n",
        "    # Filtrar los sitios turísticos que coinciden con los parámetros deseados\n",
        "    sitios_filtrados = [sitio for sitio in dataset if sitio['Tipo'] == tipo_deseado and sitio['Provincia'] == provincia_deseada]\n",
        "\n",
        "    # Construir la descripción del sitio objetivo\n",
        "    sitio_objetivo_descripcion = f\"Mi Sitio Objetivo {tipo_deseado} {provincia_deseada}\"\n",
        "\n",
        "    # Agregar la descripción del sitio objetivo a la lista de descripciones\n",
        "    descripciones = [f\"{sitio['Nombre']} {sitio['Tipo']} {sitio['Provincia']}\" for sitio in sitios_filtrados]\n",
        "    descripciones.append(sitio_objetivo_descripcion)\n",
        "\n",
        "    # Crear un vectorizador TF-IDF para extraer características de las descripciones de los sitios\n",
        "    vectorizer = TfidfVectorizer()\n",
        "    matriz_tfidf = vectorizer.fit_transform(descripciones)\n",
        "\n",
        "    # Calcular la similitud de coseno entre sitios\n",
        "    similitud_cosine = cosine_similarity(matriz_tfidf, matriz_tfidf)\n",
        "\n",
        "    # Obtener el índice del sitio objetivo en la matriz de similitud\n",
        "    indice_objetivo = descripciones.index(sitio_objetivo_descripcion)\n",
        "\n",
        "    # Obtener las similitudes del sitio objetivo con todos los demás sitios\n",
        "    similitudes_objetivo = list(enumerate(similitud_cosine[indice_objetivo]))\n",
        "\n",
        "    # Ordenar las similitudes de mayor a menor\n",
        "    similitudes_objetivo.sort(key=lambda x: x[1], reverse=True)\n",
        "\n",
        "    # Obtener las N primeras recomendaciones (excluyendo el sitio objetivo)\n",
        "    recomendaciones = similitudes_objetivo[1:num_recomendaciones + 1]\n",
        "\n",
        "    # Obtener los índices de las recomendaciones\n",
        "    indices_recomendaciones = [rec[0] for rec in recomendaciones]\n",
        "\n",
        "    # Obtener los sitios turísticos recomendados\n",
        "    sitios_recomendados = [sitios_filtrados[indice] for indice in indices_recomendaciones]\n",
        "\n",
        "    return sitios_recomendados"
      ],
      "metadata": {
        "id": "apECD-xet1ZK"
      },
      "execution_count": 2,
      "outputs": []
    },
    {
      "cell_type": "code",
      "source": [
        "dataset = [\n",
        "    {'Nombre': 'Sitio 1', 'Tipo': 'Playa', 'Provincia': 'Provincia 1', 'Temperatura': 30, 'Calificación': 4.5},\n",
        "    {'Nombre': 'Sitio 2', 'Tipo': 'Montaña', 'Provincia': 'Provincia 2', 'Temperatura': 20, 'Calificación': 4.2},\n",
        "    {'Nombre': 'Sitio 3', 'Tipo': 'Playa', 'Provincia': 'Provincia 1', 'Temperatura': 25, 'Calificación': 4.8},\n",
        "    # Agregar más sitios turísticos al dataset...\n",
        "]"
      ],
      "metadata": {
        "id": "POe9BrPhuA9x"
      },
      "execution_count": 3,
      "outputs": []
    },
    {
      "cell_type": "code",
      "source": [
        "tipo_deseado = 'Montaña'\n",
        "provincia_deseada = 'Provincia 2'\n",
        "temperatura_deseada = 28\n",
        "calificacion_deseada = 4.0"
      ],
      "metadata": {
        "id": "T1JtwKmruB13"
      },
      "execution_count": 4,
      "outputs": []
    },
    {
      "cell_type": "code",
      "source": [
        "recomendaciones = obtener_recomendaciones_con_parametros(dataset, tipo_deseado, provincia_deseada, temperatura_deseada, calificacion_deseada, num_recomendaciones=1)\n"
      ],
      "metadata": {
        "id": "-2wsBaV8uFOA"
      },
      "execution_count": 5,
      "outputs": []
    },
    {
      "cell_type": "code",
      "source": [
        "print(recomendaciones)\n"
      ],
      "metadata": {
        "colab": {
          "base_uri": "https://localhost:8080/"
        },
        "id": "IhShBlLluHHp",
        "outputId": "e118c9c5-6bd6-4a52-ac54-efe6a3a650c0"
      },
      "execution_count": 6,
      "outputs": [
        {
          "output_type": "stream",
          "name": "stdout",
          "text": [
            "[{'Nombre': 'Sitio 2', 'Tipo': 'Montaña', 'Provincia': 'Provincia 2', 'Temperatura': 20, 'Calificación': 4.2}]\n"
          ]
        }
      ]
    }
  ]
}