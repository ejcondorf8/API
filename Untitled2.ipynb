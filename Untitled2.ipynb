{
  "nbformat": 4,
  "nbformat_minor": 0,
  "metadata": {
    "colab": {
      "provenance": [],
      "authorship_tag": "ABX9TyPMZ3/Wsj9delWLYjJjh6/f",
      "include_colab_link": true
    },
    "kernelspec": {
      "name": "python3",
      "display_name": "Python 3"
    },
    "language_info": {
      "name": "python"
    }
  },
  "cells": [
    {
      "cell_type": "markdown",
      "metadata": {
        "id": "view-in-github",
        "colab_type": "text"
      },
      "source": [
        "<a href=\"https://colab.research.google.com/github/ejcondorf8/API/blob/main/Untitled2.ipynb\" target=\"_parent\"><img src=\"https://colab.research.google.com/assets/colab-badge.svg\" alt=\"Open In Colab\"/></a>"
      ]
    },
    {
      "cell_type": "code",
      "execution_count": 1,
      "metadata": {
        "id": "J4UUOV2vVb8p"
      },
      "outputs": [],
      "source": [
        "from sklearn.feature_extraction.text import TfidfVectorizer\n",
        "from sklearn.metrics.pairwise import linear_kernel"
      ]
    },
    {
      "cell_type": "code",
      "source": [
        "def obtener_recomendaciones_con_parametros(dataset, tipo_deseado, provincia_deseada, temperatura_deseada, calificacion_deseada, num_recomendaciones):\n",
        "    # Filtrar los sitios turísticos que coinciden con los parámetros deseados\n",
        "    sitios_filtrados = [sitio for sitio in dataset if sitio['Tipo'] == tipo_deseado and sitio['Provincia'] == provincia_deseada]\n",
        "\n",
        "    # Construir la descripción del sitio objetivo\n",
        "    sitio_objetivo_descripcion = f\"Mi Sitio Objetivo {tipo_deseado} {provincia_deseada}\"\n",
        "\n",
        "    # Agregar la descripción del sitio objetivo a la lista de descripciones\n",
        "    descripciones = [f\"{sitio['Nombre']} {sitio['Tipo']} {sitio['Provincia']}\" for sitio in sitios_filtrados]\n",
        "    descripciones.append(sitio_objetivo_descripcion)\n",
        "\n",
        "    # Crear un vectorizador TF-IDF para extraer características de las descripciones de los sitios\n",
        "    vectorizer = TfidfVectorizer()\n",
        "    matriz_tfidf = vectorizer.fit_transform(descripciones)\n",
        "\n",
        "    # Calcular la similitud de coseno entre sitios\n",
        "    similitud_cosine = linear_kernel(matriz_tfidf, matriz_tfidf)\n",
        "\n",
        "    # Obtener el índice del sitio objetivo en la matriz de similitud\n",
        "    indice_objetivo = descripciones.index(sitio_objetivo_descripcion)\n",
        "\n",
        "    # Obtener las similitudes del sitio objetivo con todos los demás sitios\n",
        "    similitudes_objetivo = list(enumerate(similitud_cosine[indice_objetivo]))\n",
        "\n",
        "    # Ordenar las similitudes de mayor a menor\n",
        "    similitudes_objetivo.sort(key=lambda x: x[1], reverse=True)\n",
        "\n",
        "    # Obtener las N primeras recomendaciones (excluyendo el sitio objetivo)\n",
        "    recomendaciones = similitudes_objetivo[1:num_recomendaciones + 1]\n",
        "\n",
        "    # Obtener los índices de las recomendaciones\n",
        "    indices_recomendaciones = [rec[0] for rec in recomendaciones]\n",
        "\n",
        "    # Obtener los sitios turísticos recomendados\n",
        "    sitios_recomendados = [sitios_filtrados[indice] for indice in indices_recomendaciones]\n",
        "\n",
        "    return sitios_recomendados\n"
      ],
      "metadata": {
        "id": "6UoeBW9hVfEo"
      },
      "execution_count": 15,
      "outputs": []
    },
    {
      "cell_type": "code",
      "source": [
        "dataset = [\n",
        "    {'Nombre': 'Sitio 1', 'Tipo': 'Playa', 'Provincia': 'Provincia 1', 'Temperatura': 30, 'Calificación': 4.5},\n",
        "    {'Nombre': 'Sitio 2', 'Tipo': 'Montaña', 'Provincia': 'Provincia 2', 'Temperatura': 20, 'Calificación': 4.2},\n",
        "    {'Nombre': 'Sitio 3', 'Tipo': 'Playa', 'Provincia': 'Provincia 1', 'Temperatura': 25, 'Calificación': 4.8},\n",
        "    # Agregar más sitios turísticos al dataset...\n",
        "]"
      ],
      "metadata": {
        "id": "8U0TRjiwVhfy"
      },
      "execution_count": 16,
      "outputs": []
    },
    {
      "cell_type": "code",
      "source": [
        "tipo_deseado = 'Montaña'\n",
        "provincia_deseada = 'Provincia 2'\n",
        "temperatura_deseada = 28\n",
        "calificacion_deseada = 4.0"
      ],
      "metadata": {
        "id": "ES_vNhLMVkpM"
      },
      "execution_count": 25,
      "outputs": []
    },
    {
      "cell_type": "code",
      "source": [
        "recomendaciones = obtener_recomendaciones_con_parametros(dataset, tipo_deseado, provincia_deseada, temperatura_deseada, calificacion_deseada, num_recomendaciones=1)\n"
      ],
      "metadata": {
        "id": "rfa5lP7vVoJt"
      },
      "execution_count": 26,
      "outputs": []
    },
    {
      "cell_type": "code",
      "source": [
        "print(recomendaciones)\n"
      ],
      "metadata": {
        "colab": {
          "base_uri": "https://localhost:8080/"
        },
        "id": "X1mNhL2JW1t0",
        "outputId": "024bda9c-10a2-42f2-8697-9a412570a75c"
      },
      "execution_count": 27,
      "outputs": [
        {
          "output_type": "stream",
          "name": "stdout",
          "text": [
            "[{'Nombre': 'Sitio 2', 'Tipo': 'Montaña', 'Provincia': 'Provincia 2', 'Temperatura': 20, 'Calificación': 4.2}]\n"
          ]
        }
      ]
    }
  ]
}